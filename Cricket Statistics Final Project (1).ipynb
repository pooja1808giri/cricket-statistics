{
 "cells": [
  {
   "cell_type": "code",
   "execution_count": 1,
   "metadata": {
    "colab": {
     "base_uri": "https://localhost:8080/",
     "height": 704
    },
    "id": "EtjscCLzAxIB",
    "outputId": "f342898e-1dd7-45fd-e2e1-c927fb9685b6"
   },
   "outputs": [
    {
     "data": {
      "text/plain": [
       "Index(['match_id', 'inning', 'batting_team', 'bowling_team', 'over', 'ball',\n",
       "       'batsman', 'non_striker', 'bowler', 'is_super_over', 'wide_runs',\n",
       "       'bye_runs', 'legbye_runs', 'noball_runs', 'penalty_runs',\n",
       "       'batsman_runs', 'extra_runs', 'total_runs', 'player_dismissed',\n",
       "       'dismissal_kind', 'fielder'],\n",
       "      dtype='object')"
      ]
     },
     "execution_count": 1,
     "metadata": {},
     "output_type": "execute_result"
    },
    {
     "data": {
      "text/plain": [
       "<Figure size 2880x2880 with 0 Axes>"
      ]
     },
     "metadata": {},
     "output_type": "display_data"
    }
   ],
   "source": [
    "import numpy as np\n",
    "import pandas as pd\n",
    "import matplotlib.pyplot as plt\n",
    "import seaborn as sns\n",
    "df= pd.read_csv(\"deliveries.csv\")\n",
    "#df=df[df['batsman']==\"V Kohli\"]\n",
    "# columns=[\"batsman\",\"bowler\",\"player_dismissed\",\"dismissal_kind\",\"batsman_runs\"]\n",
    "# df=df[df[\"bowler\"]==\"SK Warne\"]\n",
    "# df=df[df[\"dismissal_kind\"]==\"caught\"]\n",
    "# df=df[df[\"dismissal_kind\"]==\"caught and bowled\"].count()\n",
    "plt.figure(figsize=(40,40))\n",
    "# df[\"dismiss\"]=0\n",
    "# df[\"player_dismissed\"]=df[\"player_dismissed\"].fillna(0)\n",
    "# if (df[df[\"player_dismissed\"]!=0]):\n",
    "#     print(True)\n",
    "# if (df[\"player_dismissed\"].isnull()).all():\n",
    "#     df[\"dismiss\"]=0\n",
    "# else:\n",
    "#     df[\"dismiss\"]=1\n",
    "# df=df[df[\"dismiss\"]==1]\n",
    "# df=df[df[\"bowler\"]==\"TG Southee\"]\n",
    "# values=df[\"player_dismissed\"].count()\n",
    "# values\n",
    "# out=df[df[\"player_dismissed\"]==\"Harbhajan Singh\"]\n",
    "# out.count()\n",
    "# sns.countplot(\"bowler\",\"\")\n",
    "df.columns"
   ]
  },
  {
   "cell_type": "code",
   "execution_count": null,
   "metadata": {
    "id": "T7T1nf2uzoGT"
   },
   "outputs": [],
   "source": []
  },
  {
   "cell_type": "code",
   "execution_count": 2,
   "metadata": {
    "id": "WGsVv3C0sSkx"
   },
   "outputs": [],
   "source": [
    "# df=df[df['match_id']==12]\n",
    "# df=df[df['batsman']==\"V Kohli\"]\n",
    "# kohli_runs= df['batsman_runs'].sum()\n",
    "# balls_faced=df['ball'].count()\n",
    "# sr= (kohli_runs/balls_faced)*100\n",
    "# print(\"%.2f\"%sr)\n",
    "\n",
    "\n",
    "\n"
   ]
  },
  {
   "cell_type": "code",
   "execution_count": 3,
   "metadata": {
    "colab": {
     "base_uri": "https://localhost:8080/",
     "height": 704
    },
    "id": "asT9CSp4trtj",
    "outputId": "325e4c0b-a28b-4c67-ed36-a0f5cf500004",
    "scrolled": true
   },
   "outputs": [
    {
     "name": "stdout",
     "output_type": "stream",
     "text": [
      "no of matches won by each team in 2008\n"
     ]
    },
    {
     "data": {
      "text/plain": [
       "Index(['id', 'season', 'city', 'date', 'team1', 'team2', 'toss_winner',\n",
       "       'toss_decision', 'result', 'dl_applied', 'winner', 'win_by_runs',\n",
       "       'win_by_wickets', 'player_of_match', 'venue', 'umpire1', 'umpire2',\n",
       "       'umpire3'],\n",
       "      dtype='object')"
      ]
     },
     "execution_count": 3,
     "metadata": {},
     "output_type": "execute_result"
    },
    {
     "data": {
      "text/plain": [
       "<Figure size 1440x720 with 0 Axes>"
      ]
     },
     "metadata": {},
     "output_type": "display_data"
    }
   ],
   "source": [
    "df1=pd.read_csv(\"matches.csv\")\n",
    "perform08=df1[df1[\"season\"]==2008]\n",
    "winners08=perform08[\"winner\"].value_counts(ascending=False)\n",
    "print(\"no of matches won by each team in 2008\")\n",
    "winners08\n",
    "plt.figure(figsize=(20,10))\n",
    "# plt.bar(winners08.keys(),winners08.values,color=\"maroon\")\n",
    "df1.columns\n",
    "# count=pd.isnull(df1[\"umpire3\"])\n",
    "# count"
   ]
  },
  {
   "cell_type": "code",
   "execution_count": null,
   "metadata": {},
   "outputs": [],
   "source": []
  },
  {
   "cell_type": "code",
   "execution_count": null,
   "metadata": {},
   "outputs": [],
   "source": []
  },
  {
   "cell_type": "code",
   "execution_count": 4,
   "metadata": {
    "scrolled": true
   },
   "outputs": [],
   "source": [
    "df2=df.rename({\"match_id\":\"id\"}, axis=1)\n",
    "# df2=df2[df2[\"season\"]==\"2008\"]\n",
    "# df2=df2[df2[\"bowler\"]==\"SK Warne\"]\n",
    "# deli=df2[df2[\"bowler\"]==\"SK Warne\"].count()\n",
    "# count=df2[\"player_dismissed\"].count()\n",
    "# eco=deli/count'\n",
    "# runs=df2[\"batsman_runs\"].sum()\n",
    "\n",
    "# over=df2[\"over\"].count()\n",
    "# df2[\"dismissal_kind\"]=df2[\"dismissal_kind\"].fillna(0)\n",
    "# dict1={'caught':0,'bowled':0,'caught and bowled':0,\"lbw\":0,'run out':0}\n",
    "# for i in df2[\"dismissal_kind\"]:\n",
    "#     if i not in dict1.keys():\n",
    "#         dict1[i]=1\n",
    "#     else:\n",
    "#         dict1[i]+=1\n",
    "        \n",
    "# print(dict1)\n",
    "# plt.bar(dict1.keys(),dict1.values)\n",
    "# runs"
   ]
  },
  {
   "cell_type": "code",
   "execution_count": 34,
   "metadata": {
    "colab": {
     "base_uri": "https://localhost:8080/"
    },
    "id": "DUCqBZydtr8P",
    "outputId": "1c0f06ed-5efe-4df7-ba04-b5470b54f04f"
   },
   "outputs": [
    {
     "data": {
      "text/html": [
       "<div>\n",
       "<style scoped>\n",
       "    .dataframe tbody tr th:only-of-type {\n",
       "        vertical-align: middle;\n",
       "    }\n",
       "\n",
       "    .dataframe tbody tr th {\n",
       "        vertical-align: top;\n",
       "    }\n",
       "\n",
       "    .dataframe thead th {\n",
       "        text-align: right;\n",
       "    }\n",
       "</style>\n",
       "<table border=\"1\" class=\"dataframe\">\n",
       "  <thead>\n",
       "    <tr style=\"text-align: right;\">\n",
       "      <th></th>\n",
       "      <th>id</th>\n",
       "      <th>season</th>\n",
       "      <th>city</th>\n",
       "      <th>date</th>\n",
       "      <th>team1</th>\n",
       "      <th>team2</th>\n",
       "      <th>toss_winner</th>\n",
       "      <th>toss_decision</th>\n",
       "      <th>result</th>\n",
       "      <th>dl_applied</th>\n",
       "      <th>...</th>\n",
       "      <th>bye_runs</th>\n",
       "      <th>legbye_runs</th>\n",
       "      <th>noball_runs</th>\n",
       "      <th>penalty_runs</th>\n",
       "      <th>batsman_runs</th>\n",
       "      <th>extra_runs</th>\n",
       "      <th>total_runs</th>\n",
       "      <th>player_dismissed</th>\n",
       "      <th>dismissal_kind</th>\n",
       "      <th>fielder</th>\n",
       "    </tr>\n",
       "  </thead>\n",
       "  <tbody>\n",
       "    <tr>\n",
       "      <th>0</th>\n",
       "      <td>1</td>\n",
       "      <td>2017</td>\n",
       "      <td>Hyderabad</td>\n",
       "      <td>2017-04-05</td>\n",
       "      <td>Sunrisers Hyderabad</td>\n",
       "      <td>Royal Challengers Bangalore</td>\n",
       "      <td>Royal Challengers Bangalore</td>\n",
       "      <td>field</td>\n",
       "      <td>normal</td>\n",
       "      <td>0</td>\n",
       "      <td>...</td>\n",
       "      <td>0</td>\n",
       "      <td>0</td>\n",
       "      <td>0</td>\n",
       "      <td>0</td>\n",
       "      <td>0</td>\n",
       "      <td>0</td>\n",
       "      <td>0</td>\n",
       "      <td>NaN</td>\n",
       "      <td>NaN</td>\n",
       "      <td>NaN</td>\n",
       "    </tr>\n",
       "    <tr>\n",
       "      <th>1</th>\n",
       "      <td>1</td>\n",
       "      <td>2017</td>\n",
       "      <td>Hyderabad</td>\n",
       "      <td>2017-04-05</td>\n",
       "      <td>Sunrisers Hyderabad</td>\n",
       "      <td>Royal Challengers Bangalore</td>\n",
       "      <td>Royal Challengers Bangalore</td>\n",
       "      <td>field</td>\n",
       "      <td>normal</td>\n",
       "      <td>0</td>\n",
       "      <td>...</td>\n",
       "      <td>0</td>\n",
       "      <td>0</td>\n",
       "      <td>0</td>\n",
       "      <td>0</td>\n",
       "      <td>0</td>\n",
       "      <td>0</td>\n",
       "      <td>0</td>\n",
       "      <td>NaN</td>\n",
       "      <td>NaN</td>\n",
       "      <td>NaN</td>\n",
       "    </tr>\n",
       "    <tr>\n",
       "      <th>2</th>\n",
       "      <td>1</td>\n",
       "      <td>2017</td>\n",
       "      <td>Hyderabad</td>\n",
       "      <td>2017-04-05</td>\n",
       "      <td>Sunrisers Hyderabad</td>\n",
       "      <td>Royal Challengers Bangalore</td>\n",
       "      <td>Royal Challengers Bangalore</td>\n",
       "      <td>field</td>\n",
       "      <td>normal</td>\n",
       "      <td>0</td>\n",
       "      <td>...</td>\n",
       "      <td>0</td>\n",
       "      <td>0</td>\n",
       "      <td>0</td>\n",
       "      <td>0</td>\n",
       "      <td>4</td>\n",
       "      <td>0</td>\n",
       "      <td>4</td>\n",
       "      <td>NaN</td>\n",
       "      <td>NaN</td>\n",
       "      <td>NaN</td>\n",
       "    </tr>\n",
       "    <tr>\n",
       "      <th>3</th>\n",
       "      <td>1</td>\n",
       "      <td>2017</td>\n",
       "      <td>Hyderabad</td>\n",
       "      <td>2017-04-05</td>\n",
       "      <td>Sunrisers Hyderabad</td>\n",
       "      <td>Royal Challengers Bangalore</td>\n",
       "      <td>Royal Challengers Bangalore</td>\n",
       "      <td>field</td>\n",
       "      <td>normal</td>\n",
       "      <td>0</td>\n",
       "      <td>...</td>\n",
       "      <td>0</td>\n",
       "      <td>0</td>\n",
       "      <td>0</td>\n",
       "      <td>0</td>\n",
       "      <td>0</td>\n",
       "      <td>0</td>\n",
       "      <td>0</td>\n",
       "      <td>NaN</td>\n",
       "      <td>NaN</td>\n",
       "      <td>NaN</td>\n",
       "    </tr>\n",
       "    <tr>\n",
       "      <th>4</th>\n",
       "      <td>1</td>\n",
       "      <td>2017</td>\n",
       "      <td>Hyderabad</td>\n",
       "      <td>2017-04-05</td>\n",
       "      <td>Sunrisers Hyderabad</td>\n",
       "      <td>Royal Challengers Bangalore</td>\n",
       "      <td>Royal Challengers Bangalore</td>\n",
       "      <td>field</td>\n",
       "      <td>normal</td>\n",
       "      <td>0</td>\n",
       "      <td>...</td>\n",
       "      <td>0</td>\n",
       "      <td>0</td>\n",
       "      <td>0</td>\n",
       "      <td>0</td>\n",
       "      <td>0</td>\n",
       "      <td>2</td>\n",
       "      <td>2</td>\n",
       "      <td>NaN</td>\n",
       "      <td>NaN</td>\n",
       "      <td>NaN</td>\n",
       "    </tr>\n",
       "    <tr>\n",
       "      <th>...</th>\n",
       "      <td>...</td>\n",
       "      <td>...</td>\n",
       "      <td>...</td>\n",
       "      <td>...</td>\n",
       "      <td>...</td>\n",
       "      <td>...</td>\n",
       "      <td>...</td>\n",
       "      <td>...</td>\n",
       "      <td>...</td>\n",
       "      <td>...</td>\n",
       "      <td>...</td>\n",
       "      <td>...</td>\n",
       "      <td>...</td>\n",
       "      <td>...</td>\n",
       "      <td>...</td>\n",
       "      <td>...</td>\n",
       "      <td>...</td>\n",
       "      <td>...</td>\n",
       "      <td>...</td>\n",
       "      <td>...</td>\n",
       "      <td>...</td>\n",
       "    </tr>\n",
       "    <tr>\n",
       "      <th>179073</th>\n",
       "      <td>11415</td>\n",
       "      <td>2019</td>\n",
       "      <td>Hyderabad</td>\n",
       "      <td>12/05/19</td>\n",
       "      <td>Mumbai Indians</td>\n",
       "      <td>Chennai Super Kings</td>\n",
       "      <td>Mumbai Indians</td>\n",
       "      <td>bat</td>\n",
       "      <td>normal</td>\n",
       "      <td>0</td>\n",
       "      <td>...</td>\n",
       "      <td>0</td>\n",
       "      <td>0</td>\n",
       "      <td>0</td>\n",
       "      <td>0</td>\n",
       "      <td>1</td>\n",
       "      <td>0</td>\n",
       "      <td>1</td>\n",
       "      <td>NaN</td>\n",
       "      <td>NaN</td>\n",
       "      <td>NaN</td>\n",
       "    </tr>\n",
       "    <tr>\n",
       "      <th>179074</th>\n",
       "      <td>11415</td>\n",
       "      <td>2019</td>\n",
       "      <td>Hyderabad</td>\n",
       "      <td>12/05/19</td>\n",
       "      <td>Mumbai Indians</td>\n",
       "      <td>Chennai Super Kings</td>\n",
       "      <td>Mumbai Indians</td>\n",
       "      <td>bat</td>\n",
       "      <td>normal</td>\n",
       "      <td>0</td>\n",
       "      <td>...</td>\n",
       "      <td>0</td>\n",
       "      <td>0</td>\n",
       "      <td>0</td>\n",
       "      <td>0</td>\n",
       "      <td>2</td>\n",
       "      <td>0</td>\n",
       "      <td>2</td>\n",
       "      <td>NaN</td>\n",
       "      <td>NaN</td>\n",
       "      <td>NaN</td>\n",
       "    </tr>\n",
       "    <tr>\n",
       "      <th>179075</th>\n",
       "      <td>11415</td>\n",
       "      <td>2019</td>\n",
       "      <td>Hyderabad</td>\n",
       "      <td>12/05/19</td>\n",
       "      <td>Mumbai Indians</td>\n",
       "      <td>Chennai Super Kings</td>\n",
       "      <td>Mumbai Indians</td>\n",
       "      <td>bat</td>\n",
       "      <td>normal</td>\n",
       "      <td>0</td>\n",
       "      <td>...</td>\n",
       "      <td>0</td>\n",
       "      <td>0</td>\n",
       "      <td>0</td>\n",
       "      <td>0</td>\n",
       "      <td>1</td>\n",
       "      <td>0</td>\n",
       "      <td>1</td>\n",
       "      <td>SR Watson</td>\n",
       "      <td>run out</td>\n",
       "      <td>KH Pandya</td>\n",
       "    </tr>\n",
       "    <tr>\n",
       "      <th>179076</th>\n",
       "      <td>11415</td>\n",
       "      <td>2019</td>\n",
       "      <td>Hyderabad</td>\n",
       "      <td>12/05/19</td>\n",
       "      <td>Mumbai Indians</td>\n",
       "      <td>Chennai Super Kings</td>\n",
       "      <td>Mumbai Indians</td>\n",
       "      <td>bat</td>\n",
       "      <td>normal</td>\n",
       "      <td>0</td>\n",
       "      <td>...</td>\n",
       "      <td>0</td>\n",
       "      <td>0</td>\n",
       "      <td>0</td>\n",
       "      <td>0</td>\n",
       "      <td>2</td>\n",
       "      <td>0</td>\n",
       "      <td>2</td>\n",
       "      <td>NaN</td>\n",
       "      <td>NaN</td>\n",
       "      <td>NaN</td>\n",
       "    </tr>\n",
       "    <tr>\n",
       "      <th>179077</th>\n",
       "      <td>11415</td>\n",
       "      <td>2019</td>\n",
       "      <td>Hyderabad</td>\n",
       "      <td>12/05/19</td>\n",
       "      <td>Mumbai Indians</td>\n",
       "      <td>Chennai Super Kings</td>\n",
       "      <td>Mumbai Indians</td>\n",
       "      <td>bat</td>\n",
       "      <td>normal</td>\n",
       "      <td>0</td>\n",
       "      <td>...</td>\n",
       "      <td>0</td>\n",
       "      <td>0</td>\n",
       "      <td>0</td>\n",
       "      <td>0</td>\n",
       "      <td>0</td>\n",
       "      <td>0</td>\n",
       "      <td>0</td>\n",
       "      <td>SN Thakur</td>\n",
       "      <td>lbw</td>\n",
       "      <td>NaN</td>\n",
       "    </tr>\n",
       "  </tbody>\n",
       "</table>\n",
       "<p>179078 rows × 38 columns</p>\n",
       "</div>"
      ],
      "text/plain": [
       "           id  season       city        date                team1  \\\n",
       "0           1    2017  Hyderabad  2017-04-05  Sunrisers Hyderabad   \n",
       "1           1    2017  Hyderabad  2017-04-05  Sunrisers Hyderabad   \n",
       "2           1    2017  Hyderabad  2017-04-05  Sunrisers Hyderabad   \n",
       "3           1    2017  Hyderabad  2017-04-05  Sunrisers Hyderabad   \n",
       "4           1    2017  Hyderabad  2017-04-05  Sunrisers Hyderabad   \n",
       "...       ...     ...        ...         ...                  ...   \n",
       "179073  11415    2019  Hyderabad    12/05/19       Mumbai Indians   \n",
       "179074  11415    2019  Hyderabad    12/05/19       Mumbai Indians   \n",
       "179075  11415    2019  Hyderabad    12/05/19       Mumbai Indians   \n",
       "179076  11415    2019  Hyderabad    12/05/19       Mumbai Indians   \n",
       "179077  11415    2019  Hyderabad    12/05/19       Mumbai Indians   \n",
       "\n",
       "                              team2                  toss_winner  \\\n",
       "0       Royal Challengers Bangalore  Royal Challengers Bangalore   \n",
       "1       Royal Challengers Bangalore  Royal Challengers Bangalore   \n",
       "2       Royal Challengers Bangalore  Royal Challengers Bangalore   \n",
       "3       Royal Challengers Bangalore  Royal Challengers Bangalore   \n",
       "4       Royal Challengers Bangalore  Royal Challengers Bangalore   \n",
       "...                             ...                          ...   \n",
       "179073          Chennai Super Kings               Mumbai Indians   \n",
       "179074          Chennai Super Kings               Mumbai Indians   \n",
       "179075          Chennai Super Kings               Mumbai Indians   \n",
       "179076          Chennai Super Kings               Mumbai Indians   \n",
       "179077          Chennai Super Kings               Mumbai Indians   \n",
       "\n",
       "       toss_decision  result  dl_applied  ... bye_runs  legbye_runs  \\\n",
       "0              field  normal           0  ...        0            0   \n",
       "1              field  normal           0  ...        0            0   \n",
       "2              field  normal           0  ...        0            0   \n",
       "3              field  normal           0  ...        0            0   \n",
       "4              field  normal           0  ...        0            0   \n",
       "...              ...     ...         ...  ...      ...          ...   \n",
       "179073           bat  normal           0  ...        0            0   \n",
       "179074           bat  normal           0  ...        0            0   \n",
       "179075           bat  normal           0  ...        0            0   \n",
       "179076           bat  normal           0  ...        0            0   \n",
       "179077           bat  normal           0  ...        0            0   \n",
       "\n",
       "        noball_runs penalty_runs batsman_runs extra_runs total_runs  \\\n",
       "0                 0            0            0          0          0   \n",
       "1                 0            0            0          0          0   \n",
       "2                 0            0            4          0          4   \n",
       "3                 0            0            0          0          0   \n",
       "4                 0            0            0          2          2   \n",
       "...             ...          ...          ...        ...        ...   \n",
       "179073            0            0            1          0          1   \n",
       "179074            0            0            2          0          2   \n",
       "179075            0            0            1          0          1   \n",
       "179076            0            0            2          0          2   \n",
       "179077            0            0            0          0          0   \n",
       "\n",
       "       player_dismissed  dismissal_kind    fielder  \n",
       "0                   NaN             NaN        NaN  \n",
       "1                   NaN             NaN        NaN  \n",
       "2                   NaN             NaN        NaN  \n",
       "3                   NaN             NaN        NaN  \n",
       "4                   NaN             NaN        NaN  \n",
       "...                 ...             ...        ...  \n",
       "179073              NaN             NaN        NaN  \n",
       "179074              NaN             NaN        NaN  \n",
       "179075        SR Watson         run out  KH Pandya  \n",
       "179076              NaN             NaN        NaN  \n",
       "179077        SN Thakur             lbw        NaN  \n",
       "\n",
       "[179078 rows x 38 columns]"
      ]
     },
     "execution_count": 34,
     "metadata": {},
     "output_type": "execute_result"
    }
   ],
   "source": [
    "ipl=pd.merge(df1,df2,on=\"id\")\n",
    "# runs=ipl[\"batsman_runs\"].sum()\n",
    "# ipl=ipl[ipl[\"season\"]==2008]\n",
    "# runs=ipl[\"batsman_runs\"].sum()\n",
    "# balls=ipl[\"ball\"].count()\n",
    "# runs\n",
    "# ipl=ipl[ipl[\"season\"]==2018]\n",
    "# rcb=ipl[ipl[\"batting_team\"]==\"Royal Challengers Bangalore\"]\n",
    "# rcb=rcb[rcb[\"batsman\"]==\"V Kohli\"]\n",
    "ipl"
   ]
  },
  {
   "cell_type": "code",
   "execution_count": 67,
   "metadata": {
    "colab": {
     "base_uri": "https://localhost:8080/",
     "height": 791
    },
    "id": "Y9gdaIM1tsHC",
    "outputId": "c4a0a1be-33aa-464f-8ae0-e419bfd4281f",
    "scrolled": true
   },
   "outputs": [
    {
     "data": {
      "text/html": [
       "<div>\n",
       "<style scoped>\n",
       "    .dataframe tbody tr th:only-of-type {\n",
       "        vertical-align: middle;\n",
       "    }\n",
       "\n",
       "    .dataframe tbody tr th {\n",
       "        vertical-align: top;\n",
       "    }\n",
       "\n",
       "    .dataframe thead th {\n",
       "        text-align: right;\n",
       "    }\n",
       "</style>\n",
       "<table border=\"1\" class=\"dataframe\">\n",
       "  <thead>\n",
       "    <tr style=\"text-align: right;\">\n",
       "      <th></th>\n",
       "      <th>id</th>\n",
       "      <th>season</th>\n",
       "      <th>city</th>\n",
       "      <th>date</th>\n",
       "      <th>team1</th>\n",
       "      <th>team2</th>\n",
       "      <th>toss_winner</th>\n",
       "      <th>toss_decision</th>\n",
       "      <th>result</th>\n",
       "      <th>dl_applied</th>\n",
       "      <th>...</th>\n",
       "      <th>bye_runs</th>\n",
       "      <th>legbye_runs</th>\n",
       "      <th>noball_runs</th>\n",
       "      <th>penalty_runs</th>\n",
       "      <th>batsman_runs</th>\n",
       "      <th>extra_runs</th>\n",
       "      <th>total_runs</th>\n",
       "      <th>player_dismissed</th>\n",
       "      <th>dismissal_kind</th>\n",
       "      <th>fielder</th>\n",
       "    </tr>\n",
       "  </thead>\n",
       "  <tbody>\n",
       "    <tr>\n",
       "      <th>164750</th>\n",
       "      <td>11137</td>\n",
       "      <td>2019</td>\n",
       "      <td>Chennai</td>\n",
       "      <td>23/03/19</td>\n",
       "      <td>Royal Challengers Bangalore</td>\n",
       "      <td>Chennai Super Kings</td>\n",
       "      <td>Chennai Super Kings</td>\n",
       "      <td>field</td>\n",
       "      <td>normal</td>\n",
       "      <td>0</td>\n",
       "      <td>...</td>\n",
       "      <td>0</td>\n",
       "      <td>0</td>\n",
       "      <td>0</td>\n",
       "      <td>0</td>\n",
       "      <td>1</td>\n",
       "      <td>0</td>\n",
       "      <td>1</td>\n",
       "      <td>NaN</td>\n",
       "      <td>NaN</td>\n",
       "      <td>NaN</td>\n",
       "    </tr>\n",
       "    <tr>\n",
       "      <th>164751</th>\n",
       "      <td>11137</td>\n",
       "      <td>2019</td>\n",
       "      <td>Chennai</td>\n",
       "      <td>23/03/19</td>\n",
       "      <td>Royal Challengers Bangalore</td>\n",
       "      <td>Chennai Super Kings</td>\n",
       "      <td>Chennai Super Kings</td>\n",
       "      <td>field</td>\n",
       "      <td>normal</td>\n",
       "      <td>0</td>\n",
       "      <td>...</td>\n",
       "      <td>0</td>\n",
       "      <td>0</td>\n",
       "      <td>0</td>\n",
       "      <td>0</td>\n",
       "      <td>0</td>\n",
       "      <td>0</td>\n",
       "      <td>0</td>\n",
       "      <td>NaN</td>\n",
       "      <td>NaN</td>\n",
       "      <td>NaN</td>\n",
       "    </tr>\n",
       "    <tr>\n",
       "      <th>164752</th>\n",
       "      <td>11137</td>\n",
       "      <td>2019</td>\n",
       "      <td>Chennai</td>\n",
       "      <td>23/03/19</td>\n",
       "      <td>Royal Challengers Bangalore</td>\n",
       "      <td>Chennai Super Kings</td>\n",
       "      <td>Chennai Super Kings</td>\n",
       "      <td>field</td>\n",
       "      <td>normal</td>\n",
       "      <td>0</td>\n",
       "      <td>...</td>\n",
       "      <td>0</td>\n",
       "      <td>0</td>\n",
       "      <td>0</td>\n",
       "      <td>0</td>\n",
       "      <td>0</td>\n",
       "      <td>0</td>\n",
       "      <td>0</td>\n",
       "      <td>NaN</td>\n",
       "      <td>NaN</td>\n",
       "      <td>NaN</td>\n",
       "    </tr>\n",
       "    <tr>\n",
       "      <th>164753</th>\n",
       "      <td>11137</td>\n",
       "      <td>2019</td>\n",
       "      <td>Chennai</td>\n",
       "      <td>23/03/19</td>\n",
       "      <td>Royal Challengers Bangalore</td>\n",
       "      <td>Chennai Super Kings</td>\n",
       "      <td>Chennai Super Kings</td>\n",
       "      <td>field</td>\n",
       "      <td>normal</td>\n",
       "      <td>0</td>\n",
       "      <td>...</td>\n",
       "      <td>0</td>\n",
       "      <td>0</td>\n",
       "      <td>0</td>\n",
       "      <td>0</td>\n",
       "      <td>0</td>\n",
       "      <td>0</td>\n",
       "      <td>0</td>\n",
       "      <td>NaN</td>\n",
       "      <td>NaN</td>\n",
       "      <td>NaN</td>\n",
       "    </tr>\n",
       "    <tr>\n",
       "      <th>164754</th>\n",
       "      <td>11137</td>\n",
       "      <td>2019</td>\n",
       "      <td>Chennai</td>\n",
       "      <td>23/03/19</td>\n",
       "      <td>Royal Challengers Bangalore</td>\n",
       "      <td>Chennai Super Kings</td>\n",
       "      <td>Chennai Super Kings</td>\n",
       "      <td>field</td>\n",
       "      <td>normal</td>\n",
       "      <td>0</td>\n",
       "      <td>...</td>\n",
       "      <td>0</td>\n",
       "      <td>0</td>\n",
       "      <td>0</td>\n",
       "      <td>0</td>\n",
       "      <td>4</td>\n",
       "      <td>0</td>\n",
       "      <td>4</td>\n",
       "      <td>NaN</td>\n",
       "      <td>NaN</td>\n",
       "      <td>NaN</td>\n",
       "    </tr>\n",
       "    <tr>\n",
       "      <th>...</th>\n",
       "      <td>...</td>\n",
       "      <td>...</td>\n",
       "      <td>...</td>\n",
       "      <td>...</td>\n",
       "      <td>...</td>\n",
       "      <td>...</td>\n",
       "      <td>...</td>\n",
       "      <td>...</td>\n",
       "      <td>...</td>\n",
       "      <td>...</td>\n",
       "      <td>...</td>\n",
       "      <td>...</td>\n",
       "      <td>...</td>\n",
       "      <td>...</td>\n",
       "      <td>...</td>\n",
       "      <td>...</td>\n",
       "      <td>...</td>\n",
       "      <td>...</td>\n",
       "      <td>...</td>\n",
       "      <td>...</td>\n",
       "      <td>...</td>\n",
       "    </tr>\n",
       "    <tr>\n",
       "      <th>179073</th>\n",
       "      <td>11415</td>\n",
       "      <td>2019</td>\n",
       "      <td>Hyderabad</td>\n",
       "      <td>12/05/19</td>\n",
       "      <td>Mumbai Indians</td>\n",
       "      <td>Chennai Super Kings</td>\n",
       "      <td>Mumbai Indians</td>\n",
       "      <td>bat</td>\n",
       "      <td>normal</td>\n",
       "      <td>0</td>\n",
       "      <td>...</td>\n",
       "      <td>0</td>\n",
       "      <td>0</td>\n",
       "      <td>0</td>\n",
       "      <td>0</td>\n",
       "      <td>1</td>\n",
       "      <td>0</td>\n",
       "      <td>1</td>\n",
       "      <td>NaN</td>\n",
       "      <td>NaN</td>\n",
       "      <td>NaN</td>\n",
       "    </tr>\n",
       "    <tr>\n",
       "      <th>179074</th>\n",
       "      <td>11415</td>\n",
       "      <td>2019</td>\n",
       "      <td>Hyderabad</td>\n",
       "      <td>12/05/19</td>\n",
       "      <td>Mumbai Indians</td>\n",
       "      <td>Chennai Super Kings</td>\n",
       "      <td>Mumbai Indians</td>\n",
       "      <td>bat</td>\n",
       "      <td>normal</td>\n",
       "      <td>0</td>\n",
       "      <td>...</td>\n",
       "      <td>0</td>\n",
       "      <td>0</td>\n",
       "      <td>0</td>\n",
       "      <td>0</td>\n",
       "      <td>2</td>\n",
       "      <td>0</td>\n",
       "      <td>2</td>\n",
       "      <td>NaN</td>\n",
       "      <td>NaN</td>\n",
       "      <td>NaN</td>\n",
       "    </tr>\n",
       "    <tr>\n",
       "      <th>179075</th>\n",
       "      <td>11415</td>\n",
       "      <td>2019</td>\n",
       "      <td>Hyderabad</td>\n",
       "      <td>12/05/19</td>\n",
       "      <td>Mumbai Indians</td>\n",
       "      <td>Chennai Super Kings</td>\n",
       "      <td>Mumbai Indians</td>\n",
       "      <td>bat</td>\n",
       "      <td>normal</td>\n",
       "      <td>0</td>\n",
       "      <td>...</td>\n",
       "      <td>0</td>\n",
       "      <td>0</td>\n",
       "      <td>0</td>\n",
       "      <td>0</td>\n",
       "      <td>1</td>\n",
       "      <td>0</td>\n",
       "      <td>1</td>\n",
       "      <td>SR Watson</td>\n",
       "      <td>run out</td>\n",
       "      <td>KH Pandya</td>\n",
       "    </tr>\n",
       "    <tr>\n",
       "      <th>179076</th>\n",
       "      <td>11415</td>\n",
       "      <td>2019</td>\n",
       "      <td>Hyderabad</td>\n",
       "      <td>12/05/19</td>\n",
       "      <td>Mumbai Indians</td>\n",
       "      <td>Chennai Super Kings</td>\n",
       "      <td>Mumbai Indians</td>\n",
       "      <td>bat</td>\n",
       "      <td>normal</td>\n",
       "      <td>0</td>\n",
       "      <td>...</td>\n",
       "      <td>0</td>\n",
       "      <td>0</td>\n",
       "      <td>0</td>\n",
       "      <td>0</td>\n",
       "      <td>2</td>\n",
       "      <td>0</td>\n",
       "      <td>2</td>\n",
       "      <td>NaN</td>\n",
       "      <td>NaN</td>\n",
       "      <td>NaN</td>\n",
       "    </tr>\n",
       "    <tr>\n",
       "      <th>179077</th>\n",
       "      <td>11415</td>\n",
       "      <td>2019</td>\n",
       "      <td>Hyderabad</td>\n",
       "      <td>12/05/19</td>\n",
       "      <td>Mumbai Indians</td>\n",
       "      <td>Chennai Super Kings</td>\n",
       "      <td>Mumbai Indians</td>\n",
       "      <td>bat</td>\n",
       "      <td>normal</td>\n",
       "      <td>0</td>\n",
       "      <td>...</td>\n",
       "      <td>0</td>\n",
       "      <td>0</td>\n",
       "      <td>0</td>\n",
       "      <td>0</td>\n",
       "      <td>0</td>\n",
       "      <td>0</td>\n",
       "      <td>0</td>\n",
       "      <td>SN Thakur</td>\n",
       "      <td>lbw</td>\n",
       "      <td>NaN</td>\n",
       "    </tr>\n",
       "  </tbody>\n",
       "</table>\n",
       "<p>14328 rows × 38 columns</p>\n",
       "</div>"
      ],
      "text/plain": [
       "           id  season       city      date                        team1  \\\n",
       "164750  11137    2019    Chennai  23/03/19  Royal Challengers Bangalore   \n",
       "164751  11137    2019    Chennai  23/03/19  Royal Challengers Bangalore   \n",
       "164752  11137    2019    Chennai  23/03/19  Royal Challengers Bangalore   \n",
       "164753  11137    2019    Chennai  23/03/19  Royal Challengers Bangalore   \n",
       "164754  11137    2019    Chennai  23/03/19  Royal Challengers Bangalore   \n",
       "...       ...     ...        ...       ...                          ...   \n",
       "179073  11415    2019  Hyderabad  12/05/19               Mumbai Indians   \n",
       "179074  11415    2019  Hyderabad  12/05/19               Mumbai Indians   \n",
       "179075  11415    2019  Hyderabad  12/05/19               Mumbai Indians   \n",
       "179076  11415    2019  Hyderabad  12/05/19               Mumbai Indians   \n",
       "179077  11415    2019  Hyderabad  12/05/19               Mumbai Indians   \n",
       "\n",
       "                      team2          toss_winner toss_decision  result  \\\n",
       "164750  Chennai Super Kings  Chennai Super Kings         field  normal   \n",
       "164751  Chennai Super Kings  Chennai Super Kings         field  normal   \n",
       "164752  Chennai Super Kings  Chennai Super Kings         field  normal   \n",
       "164753  Chennai Super Kings  Chennai Super Kings         field  normal   \n",
       "164754  Chennai Super Kings  Chennai Super Kings         field  normal   \n",
       "...                     ...                  ...           ...     ...   \n",
       "179073  Chennai Super Kings       Mumbai Indians           bat  normal   \n",
       "179074  Chennai Super Kings       Mumbai Indians           bat  normal   \n",
       "179075  Chennai Super Kings       Mumbai Indians           bat  normal   \n",
       "179076  Chennai Super Kings       Mumbai Indians           bat  normal   \n",
       "179077  Chennai Super Kings       Mumbai Indians           bat  normal   \n",
       "\n",
       "        dl_applied  ... bye_runs  legbye_runs  noball_runs penalty_runs  \\\n",
       "164750           0  ...        0            0            0            0   \n",
       "164751           0  ...        0            0            0            0   \n",
       "164752           0  ...        0            0            0            0   \n",
       "164753           0  ...        0            0            0            0   \n",
       "164754           0  ...        0            0            0            0   \n",
       "...            ...  ...      ...          ...          ...          ...   \n",
       "179073           0  ...        0            0            0            0   \n",
       "179074           0  ...        0            0            0            0   \n",
       "179075           0  ...        0            0            0            0   \n",
       "179076           0  ...        0            0            0            0   \n",
       "179077           0  ...        0            0            0            0   \n",
       "\n",
       "       batsman_runs extra_runs total_runs player_dismissed  dismissal_kind  \\\n",
       "164750            1          0          1              NaN             NaN   \n",
       "164751            0          0          0              NaN             NaN   \n",
       "164752            0          0          0              NaN             NaN   \n",
       "164753            0          0          0              NaN             NaN   \n",
       "164754            4          0          4              NaN             NaN   \n",
       "...             ...        ...        ...              ...             ...   \n",
       "179073            1          0          1              NaN             NaN   \n",
       "179074            2          0          2              NaN             NaN   \n",
       "179075            1          0          1        SR Watson         run out   \n",
       "179076            2          0          2              NaN             NaN   \n",
       "179077            0          0          0        SN Thakur             lbw   \n",
       "\n",
       "          fielder  \n",
       "164750        NaN  \n",
       "164751        NaN  \n",
       "164752        NaN  \n",
       "164753        NaN  \n",
       "164754        NaN  \n",
       "...           ...  \n",
       "179073        NaN  \n",
       "179074        NaN  \n",
       "179075  KH Pandya  \n",
       "179076        NaN  \n",
       "179077        NaN  \n",
       "\n",
       "[14328 rows x 38 columns]"
      ]
     },
     "execution_count": 67,
     "metadata": {},
     "output_type": "execute_result"
    }
   ],
   "source": [
    "ipl_08=ipl[ipl['season']==2008]\n",
    "ipl_09=ipl[ipl['season']==2009]\n",
    "ipl_10=ipl[ipl['season']==2010]\n",
    "ipl_11=ipl[ipl['season']==2011]\n",
    "ipl_12=ipl[ipl['season']==2012]\n",
    "ipl_13=ipl[ipl['season']==2013]\n",
    "ipl_14=ipl[ipl['season']==2014]\n",
    "ipl_15=ipl[ipl['season']==2015]\n",
    "ipl_16=ipl[ipl['season']==2016]\n",
    "ipl_17=ipl[ipl['season']==2017]\n",
    "ipl_18=ipl[ipl['season']==2018]\n",
    "ipl_19=ipl[ipl['season']==2019]\n",
    "# ipl_08[ipl_08[\"batsman\"]==\"V Kohli\"]\n",
    "# ipl_08[\"season\"]=ipl_08[\"season\"].fillna(2008)\n",
    "# count=ipl_08[ipl_08[\"season\"]==np.nan]\n",
    "# count\n",
    "# total_null=ipl_17.isnull().sum()\n",
    "# percent=total_null/ipl_17.isnull().count()\n",
    "# percent\n",
    "# print(\"No of wickets taken by shane warne in ipl 2008\")\n",
    "# overs=warne[\"over\"].count()\n",
    "ipl_19"
   ]
  },
  {
   "cell_type": "code",
   "execution_count": null,
   "metadata": {},
   "outputs": [],
   "source": []
  },
  {
   "cell_type": "code",
   "execution_count": 9,
   "metadata": {
    "scrolled": false
   },
   "outputs": [
    {
     "data": {
      "text/html": [
       "<div>\n",
       "<style scoped>\n",
       "    .dataframe tbody tr th:only-of-type {\n",
       "        vertical-align: middle;\n",
       "    }\n",
       "\n",
       "    .dataframe tbody tr th {\n",
       "        vertical-align: top;\n",
       "    }\n",
       "\n",
       "    .dataframe thead th {\n",
       "        text-align: right;\n",
       "    }\n",
       "</style>\n",
       "<table border=\"1\" class=\"dataframe\">\n",
       "  <thead>\n",
       "    <tr style=\"text-align: right;\">\n",
       "      <th></th>\n",
       "      <th>batsman</th>\n",
       "      <th>total runs</th>\n",
       "    </tr>\n",
       "  </thead>\n",
       "  <tbody>\n",
       "    <tr>\n",
       "      <th>87</th>\n",
       "      <td>V Kohli</td>\n",
       "      <td>5434</td>\n",
       "    </tr>\n",
       "    <tr>\n",
       "      <th>33</th>\n",
       "      <td>SK Raina</td>\n",
       "      <td>5415</td>\n",
       "    </tr>\n",
       "    <tr>\n",
       "      <th>19</th>\n",
       "      <td>RG Sharma</td>\n",
       "      <td>4914</td>\n",
       "    </tr>\n",
       "    <tr>\n",
       "      <th>0</th>\n",
       "      <td>DA Warner</td>\n",
       "      <td>4741</td>\n",
       "    </tr>\n",
       "    <tr>\n",
       "      <th>1</th>\n",
       "      <td>S Dhawan</td>\n",
       "      <td>4632</td>\n",
       "    </tr>\n",
       "    <tr>\n",
       "      <th>6</th>\n",
       "      <td>CH Gayle</td>\n",
       "      <td>4560</td>\n",
       "    </tr>\n",
       "    <tr>\n",
       "      <th>30</th>\n",
       "      <td>MS Dhoni</td>\n",
       "      <td>4477</td>\n",
       "    </tr>\n",
       "    <tr>\n",
       "      <th>64</th>\n",
       "      <td>RV Uthappa</td>\n",
       "      <td>4446</td>\n",
       "    </tr>\n",
       "    <tr>\n",
       "      <th>71</th>\n",
       "      <td>AB de Villiers</td>\n",
       "      <td>4428</td>\n",
       "    </tr>\n",
       "    <tr>\n",
       "      <th>36</th>\n",
       "      <td>G Gambhir</td>\n",
       "      <td>4223</td>\n",
       "    </tr>\n",
       "    <tr>\n",
       "      <th>26</th>\n",
       "      <td>AM Rahane</td>\n",
       "      <td>3850</td>\n",
       "    </tr>\n",
       "    <tr>\n",
       "      <th>35</th>\n",
       "      <td>KD Karthik</td>\n",
       "      <td>3688</td>\n",
       "    </tr>\n",
       "    <tr>\n",
       "      <th>10</th>\n",
       "      <td>SR Watson</td>\n",
       "      <td>3614</td>\n",
       "    </tr>\n",
       "    <tr>\n",
       "      <th>21</th>\n",
       "      <td>AT Rayudu</td>\n",
       "      <td>3326</td>\n",
       "    </tr>\n",
       "    <tr>\n",
       "      <th>66</th>\n",
       "      <td>YK Pathan</td>\n",
       "      <td>3241</td>\n",
       "    </tr>\n",
       "    <tr>\n",
       "      <th>32</th>\n",
       "      <td>BB McCullum</td>\n",
       "      <td>2893</td>\n",
       "    </tr>\n",
       "    <tr>\n",
       "      <th>17</th>\n",
       "      <td>PA Patel</td>\n",
       "      <td>2874</td>\n",
       "    </tr>\n",
       "    <tr>\n",
       "      <th>65</th>\n",
       "      <td>MK Pandey</td>\n",
       "      <td>2872</td>\n",
       "    </tr>\n",
       "    <tr>\n",
       "      <th>23</th>\n",
       "      <td>KA Pollard</td>\n",
       "      <td>2784</td>\n",
       "    </tr>\n",
       "    <tr>\n",
       "      <th>3</th>\n",
       "      <td>Yuvraj Singh</td>\n",
       "      <td>2765</td>\n",
       "    </tr>\n",
       "  </tbody>\n",
       "</table>\n",
       "</div>"
      ],
      "text/plain": [
       "           batsman  total runs\n",
       "87         V Kohli        5434\n",
       "33        SK Raina        5415\n",
       "19       RG Sharma        4914\n",
       "0        DA Warner        4741\n",
       "1         S Dhawan        4632\n",
       "6         CH Gayle        4560\n",
       "30        MS Dhoni        4477\n",
       "64      RV Uthappa        4446\n",
       "71  AB de Villiers        4428\n",
       "36       G Gambhir        4223\n",
       "26       AM Rahane        3850\n",
       "35      KD Karthik        3688\n",
       "10       SR Watson        3614\n",
       "21       AT Rayudu        3326\n",
       "66       YK Pathan        3241\n",
       "32     BB McCullum        2893\n",
       "17        PA Patel        2874\n",
       "65       MK Pandey        2872\n",
       "23      KA Pollard        2784\n",
       "3     Yuvraj Singh        2765"
      ]
     },
     "execution_count": 9,
     "metadata": {},
     "output_type": "execute_result"
    }
   ],
   "source": [
    "batsman=set(df[\"batsman\"])\n",
    "dict2={}\n",
    "for i in df[\"batsman\"]:\n",
    "    if i in batsman:\n",
    "        dict2[i]=0\n",
    "for i in dict2:\n",
    "    batter=df[df[\"batsman\"]==i]\n",
    "    runs=batter[\"batsman_runs\"].sum()\n",
    "    dict2[i]=runs\n",
    "dict={}\n",
    "for i in df[\"batsman\"]:\n",
    "    if i in batsman:\n",
    "        dict[i]=0\n",
    "for i in dict:\n",
    "    batter=df[df[\"batsman\"]==i]\n",
    "    balls_faced=batter[\"batsman_runs\"].count()\n",
    "    dict[i]=balls_faced\n",
    "\n",
    "d={\"batsman\":dict2.keys(),\"total runs\":dict2.values()}\n",
    "batter_df=pd.DataFrame(d)\n",
    "batter_df=batter_df.sort_values(by=\"total runs\",ascending=False)\n",
    "batter_df.head(20)\n",
    "\n",
    "#     dict2[i]=runs\n",
    "# dict2\n",
    "# batter_df[\"sixes\"]=six\n",
    "# batter_df"
   ]
  },
  {
   "cell_type": "code",
   "execution_count": 72,
   "metadata": {},
   "outputs": [
    {
     "name": "stdout",
     "output_type": "stream",
     "text": [
      "Top 5 playes with most runs in 2008\n",
      "           batsman  total runs\n",
      "0       SC Ganguly         349\n",
      "1      BB McCullum         188\n",
      "2       RT Ponting          39\n",
      "3        DJ Hussey         319\n",
      "4  Mohammad Hafeez          64\n",
      "Top 5 playes with most runs in 2009\n",
      "           batsman  total runs\n",
      "10       ML Hayden         572\n",
      "56    AC Gilchrist         495\n",
      "72  AB de Villiers         465\n",
      "9         SK Raina         434\n",
      "73      TM Dilshan         418\n",
      "Top 5 playes with most runs in 2010\n",
      "         batsman  total runs\n",
      "16  SR Tendulkar         618\n",
      "49     JH Kallis         572\n",
      "60      SK Raina         528\n",
      "1     SC Ganguly         493\n",
      "58       M Vijay         458\n",
      "Top 5 playes with most runs in 2011\n",
      "          batsman  total runs\n",
      "122      CH Gayle         608\n",
      "38        V Kohli         557\n",
      "54   SR Tendulkar         553\n",
      "58       SE Marsh         504\n",
      "89     MEK Hussey         492\n",
      "Top 5 playes with most runs in 2012\n",
      "      batsman  total runs\n",
      "98   CH Gayle         733\n",
      "18  G Gambhir         590\n",
      "78   S Dhawan         569\n",
      "47  AM Rahane         560\n",
      "27   V Sehwag         495\n",
      "Top 5 playes with most runs in 2013\n",
      "       batsman  total runs\n",
      "58  MEK Hussey         733\n",
      "16    CH Gayle         720\n",
      "18     V Kohli         639\n",
      "60    SK Raina         548\n",
      "78   SR Watson         543\n",
      "Top 5 playes with most runs in 2014\n",
      "       batsman  total runs\n",
      "3   RV Uthappa         660\n",
      "25    DR Smith         566\n",
      "32  GJ Maxwell         552\n",
      "37   DA Warner         528\n",
      "27    SK Raina         523\n",
      "Top 5 playes with most runs in 2015\n",
      "           batsman  total runs\n",
      "47       DA Warner         562\n",
      "82     LMP Simmons         540\n",
      "29       AM Rahane         540\n",
      "61  AB de Villiers         513\n",
      "58         V Kohli         505\n",
      "Top 5 playes with most runs in 2016\n",
      "           batsman  total runs\n",
      "42         V Kohli         973\n",
      "47       DA Warner         848\n",
      "43  AB de Villiers         687\n",
      "25       G Gambhir         501\n",
      "48        S Dhawan         501\n",
      "Top 5 playes with most runs in 2017\n",
      "      batsman  total runs\n",
      "0   DA Warner         641\n",
      "36  G Gambhir         498\n",
      "1    S Dhawan         479\n",
      "28  SPD Smith         472\n",
      "33   SK Raina         442\n",
      "Top 5 playes with most runs in 2018\n",
      "          batsman  total runs\n",
      "59  KS Williamson         747\n",
      "21        RR Pant         717\n",
      "25       KL Rahul         678\n",
      "7       AT Rayudu         615\n",
      "51     JC Buttler         574\n",
      "Top 5 playes with most runs in 2019\n",
      "       batsman  total runs\n",
      "16   DA Warner         727\n",
      "45    KL Rahul         610\n",
      "36   Q de Kock         555\n",
      "25  AD Russell         545\n",
      "28    S Dhawan         542\n"
     ]
    }
   ],
   "source": [
    "# STRIKE RATES OF THE WINNING CAPTAIN 2008\n",
    "batsman=set(ipl_08[\"batsman\"])\n",
    "dict2={}\n",
    "for i in ipl_08[\"batsman\"]:\n",
    "    if i in batsman:\n",
    "        dict2[i]=0\n",
    "for i in dict2:\n",
    "    batter=ipl_08[ipl_08[\"batsman\"]==i] \n",
    "    runs=batter[\"batsman_runs\"].sum()\n",
    "    dict2[i]=runs\n",
    "dict3={}\n",
    "for i in ipl_08[\"batsman\"]:\n",
    "    if i in batsman:\n",
    "        dict3[i]=0\n",
    "for i in dict2:\n",
    "    batter=ipl_08[ipl_08[\"batsman\"]==i]\n",
    "    balls_faced=batter['ball'].count()\n",
    "    dict3[i]=balls_faced\n",
    "d={\"batsman\":dict2.keys(),\"total runs\":dict2.values()}\n",
    "batter_ipl_08=pd.DataFrame(d)\n",
    "batter_ipl_08.sort_values(by=\"total runs\",ascending=False)\n",
    "print(\"Top 5 playes with most runs in 2008\")\n",
    "print(batter_ipl_08.head(5))\n",
    "# batter_ipl_08=batter_ipl_08.sort_values(by=\"total runs\",ascending=False)\n",
    "# STRIKE RATE OF THE WINNING CAPTAIN 2009\n",
    "batsman=set(ipl_09[\"batsman\"])\n",
    "dict2={}\n",
    "for i in ipl_09[\"batsman\"]:\n",
    "    if i in batsman:\n",
    "        dict2[i]=0\n",
    "for i in dict2:\n",
    "    batter=ipl_09[ipl_09[\"batsman\"]==i]\n",
    "    runs=batter[\"batsman_runs\"].sum()\n",
    "    dict2[i]=runs\n",
    "for i in ipl_09[\"batsman\"]:\n",
    "    if i in batsman:\n",
    "        dict3[i]=0\n",
    "for i in dict2:\n",
    "    batter=ipl_09[ipl_09[\"batsman\"]==i]\n",
    "    runs=batter[\"batsman_runs\"].sum()\n",
    "    balls_faced=batter['ball'].count()\n",
    "    dict3[i]=balls_faced\n",
    "d={\"batsman\":dict2.keys(),\"total runs\":dict2.values()}\n",
    "dict2\n",
    "batter_ipl_09=pd.DataFrame(d)\n",
    "batter_ipl_09=batter_ipl_09.sort_values(by=\"total runs\",ascending=False)\n",
    "print(\"Top 5 playes with most runs in 2009\")\n",
    "print(batter_ipl_09.head(5))\n",
    "\n",
    "# STRIKE RATE OF THE WINNING CAPTAIN 2010\n",
    "batsman=set(ipl_10[\"batsman\"])\n",
    "dict2={}\n",
    "for i in ipl_10[\"batsman\"]:\n",
    "    if i in batsman:\n",
    "        dict2[i]=0\n",
    "for i in dict2:\n",
    "    batter=ipl_10[ipl_10[\"batsman\"]==i]\n",
    "    runs=batter[\"batsman_runs\"].sum()\n",
    "    dict2[i]=runs\n",
    "dict2\n",
    "for i in ipl_10[\"batsman\"]:\n",
    "    if i in batsman:\n",
    "        dict3[i]=0\n",
    "for i in dict2:\n",
    "    batter=ipl_10[ipl_10[\"batsman\"]==i]\n",
    "    runs=batter[\"batsman_runs\"].sum()\n",
    "    balls_faced=batter['ball'].count()\n",
    "    dict3[i]=balls_faced\n",
    "    \n",
    "d={\"batsman\":dict2.keys(),\"total runs\":dict2.values()}\n",
    "batter_ipl_10=pd.DataFrame(d)\n",
    "batter_ipl_10=batter_ipl_10.sort_values(by=\"total runs\",ascending=False)\n",
    "print(\"Top 5 playes with most runs in 2010\")\n",
    "print(batter_ipl_10.head(5))\n",
    "# STRIKE RATE OF THE WINNING CAPTAIN 2011\n",
    "batsman=set(ipl_11[\"batsman\"])\n",
    "dict2={}\n",
    "for i in ipl_11[\"batsman\"]:\n",
    "    if i in batsman:\n",
    "        dict2[i]=0\n",
    "for i in dict2:\n",
    "    batter=ipl_11[ipl_11[\"batsman\"]==i]\n",
    "    runs=batter[\"batsman_runs\"].sum()\n",
    "    dict2[i]=runs\n",
    "dict2\n",
    "for i in ipl_12[\"batsman\"]:\n",
    "    if i in batsman:\n",
    "        dict3[i]=0\n",
    "for i in dict2:\n",
    "    batter=ipl_12[ipl_12[\"batsman\"]==i]\n",
    "    runs=batter[\"batsman_runs\"].sum()\n",
    "    balls_faced=batter['ball'].count()\n",
    "    dict3[i]=balls_faced\n",
    "d={\"batsman\":dict2.keys(),\"total runs\":dict2.values()}\n",
    "batter_ipl_11=pd.DataFrame(d)\n",
    "batter_ipl_11=batter_ipl_11.sort_values(by=\"total runs\",ascending=False)\n",
    "print(\"Top 5 playes with most runs in 2011\")\n",
    "print(batter_ipl_11.head(5))\n",
    "\n",
    "# STRIKE RATE OF THE WINNING CAPTAIN 2012\n",
    "batsman=set(ipl_12[\"batsman\"])\n",
    "dict2={}\n",
    "for i in ipl_12[\"batsman\"]:\n",
    "    if i in batsman:\n",
    "        dict2[i]=0\n",
    "for i in dict2:\n",
    "    batter=ipl_12[ipl_12[\"batsman\"]==i]\n",
    "    runs=batter[\"batsman_runs\"].sum()\n",
    "    dict2[i]=runs\n",
    "dict2\n",
    "for i in ipl_12[\"batsman\"]:\n",
    "    if i in batsman:\n",
    "        dict3[i]=0\n",
    "for i in dict2:\n",
    "    batter=ipl_12[ipl_12[\"batsman\"]==i]\n",
    "    runs=batter[\"batsman_runs\"].sum()\n",
    "    balls_faced=batter['ball'].count()\n",
    "    dict3[i]=balls_faced\n",
    "d={\"batsman\":dict2.keys(),\"total runs\":dict2.values()}\n",
    "batter_ipl_12=pd.DataFrame(d)\n",
    "batter_ipl_12=batter_ipl_12.sort_values(by=\"total runs\",ascending=False)\n",
    "print(\"Top 5 playes with most runs in 2012\")\n",
    "print(batter_ipl_12.head(5))\n",
    "# STRIKE RATE OF THE WINNING CAPTAIN 2013\n",
    "batsman=set(ipl_13[\"batsman\"])\n",
    "dict2={}\n",
    "for i in ipl_13[\"batsman\"]:\n",
    "    if i in batsman:\n",
    "        dict2[i]=0\n",
    "for i in dict2:\n",
    "    batter=ipl_13[ipl_13[\"batsman\"]==i]\n",
    "    runs=batter[\"batsman_runs\"].sum()\n",
    "    dict2[i]=runs\n",
    "dict2\n",
    "for i in ipl_13[\"batsman\"]:\n",
    "    if i in batsman:\n",
    "        dict3[i]=0\n",
    "for i in dict2:\n",
    "    batter=ipl_13[ipl_13[\"batsman\"]==i]\n",
    "    runs=batter[\"batsman_runs\"].sum()\n",
    "    balls_faced=batter['ball'].count()\n",
    "    dict3[i]=balls_faced\n",
    "d={\"batsman\":dict2.keys(),\"total runs\":dict2.values()}\n",
    "batter_ipl_13=pd.DataFrame(d)\n",
    "batter_ipl_13=batter_ipl_13.sort_values(by=\"total runs\",ascending=False)\n",
    "print(\"Top 5 playes with most runs in 2013\")\n",
    "print(batter_ipl_13.head(5))\n",
    "# STRIKE RATE OF THE WINNING CAPTAIN 2014\n",
    "batsman=set(ipl_14[\"batsman\"])\n",
    "dict2={}\n",
    "for i in ipl_14[\"batsman\"]:\n",
    "    if i in batsman:\n",
    "        dict2[i]=0\n",
    "for i in dict2:\n",
    "    batter=ipl_14[ipl_14[\"batsman\"]==i]\n",
    "    runs=batter[\"batsman_runs\"].sum()\n",
    "    dict2[i]=runs\n",
    "dict2\n",
    "for i in ipl_14[\"batsman\"]:\n",
    "    if i in batsman:\n",
    "        dict3[i]=0\n",
    "for i in dict2:\n",
    "    batter=ipl_14[ipl_14[\"batsman\"]==i]\n",
    "    runs=batter[\"batsman_runs\"].sum()\n",
    "    balls_faced=batter['ball'].count()\n",
    "    dict3[i]=balls_faced\n",
    "d={\"batsman\":dict2.keys(),\"total runs\":dict2.values()}\n",
    "batter_ipl_14=pd.DataFrame(d)\n",
    "batter_ipl_14=batter_ipl_14.sort_values(by=\"total runs\",ascending=False)\n",
    "print(\"Top 5 playes with most runs in 2014\")\n",
    "print(batter_ipl_14.head(5))\n",
    "# STRIKE RATE OF THE WINNING CAPTAIN 2015\n",
    "batsman=set(ipl_15[\"batsman\"])\n",
    "dict2={}\n",
    "for i in ipl_15[\"batsman\"]:\n",
    "    if i in batsman:\n",
    "        dict2[i]=0\n",
    "for i in dict2:\n",
    "    batter=ipl_15[ipl_15[\"batsman\"]==i]\n",
    "    runs=batter[\"batsman_runs\"].sum()\n",
    "    dict2[i]=runs\n",
    "dict2\n",
    "for i in ipl_15[\"batsman\"]:\n",
    "    if i in batsman:\n",
    "        dict3[i]=0\n",
    "for i in dict2:\n",
    "    batter=ipl_15[ipl_15[\"batsman\"]==i]\n",
    "    runs=batter[\"batsman_runs\"].sum()\n",
    "    balls_faced=batter['ball'].count()\n",
    "    dict3[i]=balls_faced\n",
    "d={\"batsman\":dict2.keys(),\"total runs\":dict2.values()}\n",
    "batter_ipl_15=pd.DataFrame(d)\n",
    "batter_ipl_15=batter_ipl_15.sort_values(by=\"total runs\",ascending=False)\n",
    "print(\"Top 5 playes with most runs in 2015\")\n",
    "print(batter_ipl_15.head(5))\n",
    "# STRIKE RATE OF THE WINNING CAPTAIN 2016\n",
    "batsman=set(ipl_16[\"batsman\"])\n",
    "dict2={}\n",
    "for i in ipl_16[\"batsman\"]:\n",
    "    if i in batsman:\n",
    "        dict2[i]=0\n",
    "for i in dict2:\n",
    "    batter=ipl_16[ipl_16[\"batsman\"]==i]\n",
    "    runs=batter[\"batsman_runs\"].sum()\n",
    "    dict2[i]=runs\n",
    "dict2\n",
    "for i in ipl_16[\"batsman\"]:\n",
    "    if i in batsman:\n",
    "        dict3[i]=0\n",
    "for i in dict2:\n",
    "    batter=ipl_16[ipl_16[\"batsman\"]==i]\n",
    "    runs=batter[\"batsman_runs\"].sum()\n",
    "    balls_faced=batter['ball'].count()\n",
    "    dict3[i]=balls_faced\n",
    "d={\"batsman\":dict2.keys(),\"total runs\":dict2.values()}\n",
    "batter_ipl_16=pd.DataFrame(d)\n",
    "batter_ipl_16=batter_ipl_16.sort_values(by=\"total runs\",ascending=False)\n",
    "print(\"Top 5 playes with most runs in 2016\")\n",
    "print(batter_ipl_16.head(5))\n",
    "# STRIKE RATE OF THE WINNING CAPTAIN 2017\n",
    "batsman=set(ipl_17[\"batsman\"])\n",
    "dict2={}\n",
    "for i in ipl_17[\"batsman\"]:\n",
    "    if i in batsman:\n",
    "        dict2[i]=0\n",
    "for i in dict2:\n",
    "    batter=ipl_17[ipl_17[\"batsman\"]==i]\n",
    "    runs=batter[\"batsman_runs\"].sum()\n",
    "    dict2[i]=runs\n",
    "dict2\n",
    "for i in ipl_17[\"batsman\"]:\n",
    "    if i in batsman:\n",
    "        dict3[i]=0\n",
    "for i in dict2:\n",
    "    batter=ipl_17[ipl_17[\"batsman\"]==i]\n",
    "    runs=batter[\"batsman_runs\"].sum()\n",
    "    balls_faced=batter['ball'].count()\n",
    "    dict3[i]=balls_faced\n",
    "d={\"batsman\":dict2.keys(),\"total runs\":dict2.values()}\n",
    "batter_ipl_17=pd.DataFrame(d)\n",
    "batter_ipl_17=batter_ipl_17.sort_values(by=\"total runs\",ascending=False)\n",
    "print(\"Top 5 playes with most runs in 2017\")\n",
    "print(batter_ipl_17.head(5))\n",
    "# STRIKE RATE OF THE WINNING CAPTAIN 2018\\\n",
    "batsman=set(ipl_18[\"batsman\"])\n",
    "dict2={}\n",
    "for i in ipl_18[\"batsman\"]:\n",
    "    if i in batsman:\n",
    "        dict2[i]=0\n",
    "for i in dict2:\n",
    "    batter=ipl_18[ipl_18[\"batsman\"]==i]\n",
    "    runs=batter[\"batsman_runs\"].sum()\n",
    "    dict2[i]=runs\n",
    "dict2\n",
    "dict3={}\n",
    "for i in ipl_18[\"batsman\"]:\n",
    "    if i in batsman:\n",
    "        dict3[i]=0\n",
    "for i in dict2:\n",
    "    batter=ipl_18[ipl_18[\"batsman\"]==i]\n",
    "    runs=batter[\"batsman_runs\"].sum()\n",
    "    balls_faced=batter['ball'].count()\n",
    "    dict3[i]=balls_faced\n",
    "d={\"batsman\":dict2.keys(),\"total runs\":dict2.values()}\n",
    "batter_ipl_18=pd.DataFrame(d)\n",
    "batter_ipl_18=batter_ipl_18.sort_values(by=\"total runs\",ascending=False)\n",
    "print(\"Top 5 playes with most runs in 2018\")\n",
    "print(batter_ipl_18.head(5))\n",
    "# STRIKE RATE OF THE WINNING CAPTAIN 2019\n",
    "batsman=set(ipl_19[\"batsman\"])\n",
    "dict2={}\n",
    "for i in ipl_19[\"batsman\"]:\n",
    "    if i in batsman:\n",
    "        dict2[i]=0\n",
    "for i in dict2:\n",
    "    batter=ipl_19[ipl_19[\"batsman\"]==i]\n",
    "    runs=batter[\"batsman_runs\"].sum()\n",
    "    batsman_runs=batter['batsman_runs'].sum()\n",
    "    balls_faced=batter['ball'].count()\n",
    "    dict2[i]=batsman_runs\n",
    "dict3={}\n",
    "for i in ipl_19[\"batsman\"]:\n",
    "    if i in batsman:\n",
    "        dict3[i]=0\n",
    "for i in dict2:\n",
    "    batter=ipl_19[ipl_19[\"batsman\"]==i]\n",
    "    runs=batter[\"batsman_runs\"].sum()\n",
    "    balls_faced=batter['ball'].count()\n",
    "    dict3[i]=balls_faced\n",
    "d={\"batsman\":dict2.keys(),\"total runs\":dict2.values()}\n",
    "batter_ipl_19=pd.DataFrame(d)\n",
    "print(\"Top 5 playes with most runs in 2019\")\n",
    "batter_ipl_19=batter_ipl_19.sort_values(by=\"total runs\",ascending=False)\n",
    "# batter_ipl_18\n",
    "print(batter_ipl_19.head(5))"
   ]
  },
  {
   "cell_type": "code",
   "execution_count": 66,
   "metadata": {},
   "outputs": [
    {
     "data": {
      "text/html": [
       "<div>\n",
       "<style scoped>\n",
       "    .dataframe tbody tr th:only-of-type {\n",
       "        vertical-align: middle;\n",
       "    }\n",
       "\n",
       "    .dataframe tbody tr th {\n",
       "        vertical-align: top;\n",
       "    }\n",
       "\n",
       "    .dataframe thead th {\n",
       "        text-align: right;\n",
       "    }\n",
       "</style>\n",
       "<table border=\"1\" class=\"dataframe\">\n",
       "  <thead>\n",
       "    <tr style=\"text-align: right;\">\n",
       "      <th></th>\n",
       "      <th>batsman</th>\n",
       "      <th>Number of boundaries</th>\n",
       "    </tr>\n",
       "  </thead>\n",
       "  <tbody>\n",
       "    <tr>\n",
       "      <th>1</th>\n",
       "      <td>S Dhawan</td>\n",
       "      <td>526</td>\n",
       "    </tr>\n",
       "    <tr>\n",
       "      <th>33</th>\n",
       "      <td>SK Raina</td>\n",
       "      <td>495</td>\n",
       "    </tr>\n",
       "    <tr>\n",
       "      <th>36</th>\n",
       "      <td>G Gambhir</td>\n",
       "      <td>492</td>\n",
       "    </tr>\n",
       "    <tr>\n",
       "      <th>87</th>\n",
       "      <td>V Kohli</td>\n",
       "      <td>482</td>\n",
       "    </tr>\n",
       "    <tr>\n",
       "      <th>0</th>\n",
       "      <td>DA Warner</td>\n",
       "      <td>459</td>\n",
       "    </tr>\n",
       "    <tr>\n",
       "      <th>64</th>\n",
       "      <td>RV Uthappa</td>\n",
       "      <td>436</td>\n",
       "    </tr>\n",
       "    <tr>\n",
       "      <th>19</th>\n",
       "      <td>RG Sharma</td>\n",
       "      <td>431</td>\n",
       "    </tr>\n",
       "    <tr>\n",
       "      <th>26</th>\n",
       "      <td>AM Rahane</td>\n",
       "      <td>405</td>\n",
       "    </tr>\n",
       "    <tr>\n",
       "      <th>6</th>\n",
       "      <td>CH Gayle</td>\n",
       "      <td>376</td>\n",
       "    </tr>\n",
       "    <tr>\n",
       "      <th>17</th>\n",
       "      <td>PA Patel</td>\n",
       "      <td>366</td>\n",
       "    </tr>\n",
       "  </tbody>\n",
       "</table>\n",
       "</div>"
      ],
      "text/plain": [
       "       batsman  Number of boundaries\n",
       "1     S Dhawan                   526\n",
       "33    SK Raina                   495\n",
       "36   G Gambhir                   492\n",
       "87     V Kohli                   482\n",
       "0    DA Warner                   459\n",
       "64  RV Uthappa                   436\n",
       "19   RG Sharma                   431\n",
       "26   AM Rahane                   405\n",
       "6     CH Gayle                   376\n",
       "17    PA Patel                   366"
      ]
     },
     "execution_count": 66,
     "metadata": {},
     "output_type": "execute_result"
    }
   ],
   "source": [
    "batsman=set(df[\"batsman\"])\n",
    "dict2={}\n",
    "for i in df[\"batsman\"]:\n",
    "    if i in batsman:\n",
    "        dict2[i]=0\n",
    "for i in dict2:\n",
    "    batter=df[df[\"batsman\"]==i]\n",
    "    runs=batter[\"batsman_runs\"].sum()\n",
    "    dict2[i]=runs\n",
    "d={\"batsman\":dict2.keys(),\"total runs\":dict2.values()}\n",
    "batter_df=pd.DataFrame(d)\n",
    "dict3={}\n",
    "for i in df[\"batsman\"]:\n",
    "    if i in batsman:\n",
    "        dict3[i]=0\n",
    "for i in dict3:\n",
    "    batter1=df[df[\"batsman\"]==i]\n",
    "    sixes=batter1[batter1[\"batsman_runs\"]==6].count()\n",
    "    dict3[i]=sixes[\"batsman_runs\"]\n",
    "dict4={}\n",
    "for i in df[\"batsman\"]:\n",
    "    if i in batsman:\n",
    "        dict4[i]=0\n",
    "for i in dict4:\n",
    "    batter1=df[df[\"batsman\"]==i]\n",
    "    sixes=batter1[batter1[\"batsman_runs\"]==4].count()\n",
    "    dict4[i]=sixes[\"batsman_runs\"]\n",
    "sixes={\"batsman\":dict2.keys(),\"Number of boundaries\":dict4.values()}\n",
    "six_df=pd.DataFrame(sixes)\n",
    "# six_df.sort_values(by=\"Number of sixes\",ascending=False)\n",
    "six_df.sort_values(by=\"Number of boundaries\",ascending=False).head(10)\n",
    "# sns.barplot(x=\"batsman\",y=\"Number of sixes\",data=\"merged_df\")"
   ]
  },
  {
   "cell_type": "code",
   "execution_count": 15,
   "metadata": {},
   "outputs": [
    {
     "data": {
      "text/html": [
       "<div>\n",
       "<style scoped>\n",
       "    .dataframe tbody tr th:only-of-type {\n",
       "        vertical-align: middle;\n",
       "    }\n",
       "\n",
       "    .dataframe tbody tr th {\n",
       "        vertical-align: top;\n",
       "    }\n",
       "\n",
       "    .dataframe thead th {\n",
       "        text-align: right;\n",
       "    }\n",
       "</style>\n",
       "<table border=\"1\" class=\"dataframe\">\n",
       "  <thead>\n",
       "    <tr style=\"text-align: right;\">\n",
       "      <th></th>\n",
       "      <th>bowler</th>\n",
       "      <th>total wickets</th>\n",
       "    </tr>\n",
       "  </thead>\n",
       "  <tbody>\n",
       "    <tr>\n",
       "      <th>58</th>\n",
       "      <td>SL Malinga</td>\n",
       "      <td>188</td>\n",
       "    </tr>\n",
       "    <tr>\n",
       "      <th>147</th>\n",
       "      <td>DJ Bravo</td>\n",
       "      <td>168</td>\n",
       "    </tr>\n",
       "    <tr>\n",
       "      <th>50</th>\n",
       "      <td>A Mishra</td>\n",
       "      <td>165</td>\n",
       "    </tr>\n",
       "    <tr>\n",
       "      <th>59</th>\n",
       "      <td>Harbhajan Singh</td>\n",
       "      <td>161</td>\n",
       "    </tr>\n",
       "    <tr>\n",
       "      <th>27</th>\n",
       "      <td>PP Chawla</td>\n",
       "      <td>156</td>\n",
       "    </tr>\n",
       "    <tr>\n",
       "      <th>8</th>\n",
       "      <td>B Kumar</td>\n",
       "      <td>141</td>\n",
       "    </tr>\n",
       "    <tr>\n",
       "      <th>225</th>\n",
       "      <td>R Ashwin</td>\n",
       "      <td>138</td>\n",
       "    </tr>\n",
       "    <tr>\n",
       "      <th>28</th>\n",
       "      <td>SP Narine</td>\n",
       "      <td>137</td>\n",
       "    </tr>\n",
       "    <tr>\n",
       "      <th>64</th>\n",
       "      <td>UT Yadav</td>\n",
       "      <td>136</td>\n",
       "    </tr>\n",
       "    <tr>\n",
       "      <th>103</th>\n",
       "      <td>R Vinay Kumar</td>\n",
       "      <td>127</td>\n",
       "    </tr>\n",
       "  </tbody>\n",
       "</table>\n",
       "</div>"
      ],
      "text/plain": [
       "              bowler  total wickets\n",
       "58        SL Malinga            188\n",
       "147         DJ Bravo            168\n",
       "50          A Mishra            165\n",
       "59   Harbhajan Singh            161\n",
       "27         PP Chawla            156\n",
       "8            B Kumar            141\n",
       "225         R Ashwin            138\n",
       "28         SP Narine            137\n",
       "64          UT Yadav            136\n",
       "103    R Vinay Kumar            127"
      ]
     },
     "execution_count": 15,
     "metadata": {},
     "output_type": "execute_result"
    }
   ],
   "source": [
    "# BOWLERS STRIKE RATE:\n",
    "bowlers=set(df[\"bowler\"])\n",
    "dict1={}\n",
    "wkts=0\n",
    "# null=pd.isnull(df[\"player_dismissed\"])\n",
    "for i in df[\"bowler\"]:\n",
    "    if i in bowlers:\n",
    "        dict1[i]=0\n",
    "dict1\n",
    "# df=df.head()\n",
    "for i in dict1:\n",
    "    bowler=df[df[\"bowler\"]==i]\n",
    "    wkts=bowler[\"player_dismissed\"].count()\n",
    "    dict1[i]=wkts\n",
    "dict4={}\n",
    "for i in bowlers:\n",
    "    bowler=df[df[\"bowler\"]==i]\n",
    "    balls=bowler[\"ball\"].sum()\n",
    "    dict4[i]=balls\n",
    "# j=dict1[0]\n",
    "D={\"bowler\":dict1.keys(),\"total wickets\":dict1.values()}\n",
    "bowler_df=pd.DataFrame(D)\n",
    "bowler_df.sort_values(by=\"total wickets\",ascending=False).head(10)\n"
   ]
  },
  {
   "cell_type": "code",
   "execution_count": 106,
   "metadata": {},
   "outputs": [
    {
     "name": "stdout",
     "output_type": "stream",
     "text": [
      "no of matches won by each team in 2010\n"
     ]
    },
    {
     "data": {
      "text/plain": [
       "<BarContainer object of 8 artists>"
      ]
     },
     "execution_count": 106,
     "metadata": {},
     "output_type": "execute_result"
    },
    {
     "data": {
      "image/png": "[encoded data removed]",
      "text/plain": [
       "<Figure size 1440x720 with 1 Axes>"
      ]
     },
     "metadata": {
      "needs_background": "light"
     },
     "output_type": "display_data"
    }
   ],
   "source": [
    "perform08=df1[df1[\"season\"]==2008]\n",
    "winners08=perform08[\"winner\"].value_counts(ascending=False)\n",
    "print(\"no of matches won by each team in 2010\")\n",
    "winners08\n",
    "plt.figure(figsize=(20,10))\n",
    "plt.bar(winners08.keys(),winners08,color=\"maroon\")"
   ]
  },
  {
   "cell_type": "code",
   "execution_count": 107,
   "metadata": {},
   "outputs": [
    {
     "name": "stdout",
     "output_type": "stream",
     "text": [
      "no of matches won by each team in 2010\n"
     ]
    },
    {
     "data": {
      "text/plain": [
       "<BarContainer object of 8 artists>"
      ]
     },
     "execution_count": 107,
     "metadata": {},
     "output_type": "execute_result"
    },
    {
     "data": {
      "image/png": "[encoded data removed]",
      "text/plain": [
       "<Figure size 1440x720 with 1 Axes>"
      ]
     },
     "metadata": {
      "needs_background": "light"
     },
     "output_type": "display_data"
    }
   ],
   "source": [
    "perform09=df1[df1[\"season\"]==2009]\n",
    "winners09=perform09[\"winner\"].value_counts(ascending=False)\n",
    "print(\"no of matches won by each team in 2010\")\n",
    "winners09\n",
    "plt.figure(figsize=(20,10))\n",
    "plt.bar(winners09.keys(),winners09,color=\"maroon\")"
   ]
  },
  {
   "cell_type": "code",
   "execution_count": null,
   "metadata": {},
   "outputs": [],
   "source": [
    "perform10=df1[df1[\"season\"]==2010]\n",
    "winners10=perform10[\"winner\"].value_counts(ascending=False)\n",
    "print(\"no of matches won by each team in 2010\")\n",
    "winners10\n",
    "plt.figure(figsize=(20,10))\n",
    "plt.bar(winners10.keys(),winners10,color=\"maroon\")"
   ]
  },
  {
   "cell_type": "code",
   "execution_count": 109,
   "metadata": {},
   "outputs": [
    {
     "name": "stdout",
     "output_type": "stream",
     "text": [
      "no of matches won by each team in 2010\n"
     ]
    },
    {
     "data": {
      "text/plain": [
       "<BarContainer object of 10 artists>"
      ]
     },
     "execution_count": 109,
     "metadata": {},
     "output_type": "execute_result"
    },
    {
     "data": {
      "image/png": "[encoded data removed]",
      "text/plain": [
       "<Figure size 2160x720 with 1 Axes>"
      ]
     },
     "metadata": {
      "needs_background": "light"
     },
     "output_type": "display_data"
    }
   ],
   "source": [
    "perform12=df1[df1[\"season\"]==2011]\n",
    "winners11=perform11[\"winner\"].value_counts(ascending=False)\n",
    "print(\"no of matches won by each team in 2010\")\n",
    "winners11\n",
    "plt.figure(figsize=(30,10))\n",
    "plt.bar(winners11.keys(),winners11,color=\"maroon\")"
   ]
  },
  {
   "cell_type": "code",
   "execution_count": null,
   "metadata": {},
   "outputs": [],
   "source": []
  },
  {
   "cell_type": "code",
   "execution_count": 19,
   "metadata": {},
   "outputs": [
    {
     "name": "stdout",
     "output_type": "stream",
     "text": [
      "no of matches won by each team in 2012\n"
     ]
    },
    {
     "data": {
      "text/plain": [
       "<BarContainer object of 9 artists>"
      ]
     },
     "execution_count": 19,
     "metadata": {},
     "output_type": "execute_result"
    },
    {
     "data": {
      "image/png": "[encoded data removed]",
      "text/plain": [
       "<Figure size 1440x720 with 1 Axes>"
      ]
     },
     "metadata": {
      "needs_background": "light"
     },
     "output_type": "display_data"
    }
   ],
   "source": [
    "perform12=df1[df1[\"season\"]==2012]\n",
    "winners12=perform12[\"winner\"].value_counts(ascending=False)\n",
    "print(\"no of matches won by each team in 2012\")\n",
    "winners12\n",
    "plt.figure(figsize=(20,10))\n",
    "plt.bar(winners12.keys(),winners12.values,color=\"maroon\")"
   ]
  },
  {
   "cell_type": "code",
   "execution_count": 20,
   "metadata": {},
   "outputs": [
    {
     "name": "stdout",
     "output_type": "stream",
     "text": [
      "no of matches won by each team in 2013\n"
     ]
    },
    {
     "data": {
      "text/plain": [
       "<BarContainer object of 9 artists>"
      ]
     },
     "execution_count": 20,
     "metadata": {},
     "output_type": "execute_result"
    },
    {
     "data": {
      "image/png": "[encoded data removed]",
      "text/plain": [
       "<Figure size 1440x720 with 1 Axes>"
      ]
     },
     "metadata": {
      "needs_background": "light"
     },
     "output_type": "display_data"
    }
   ],
   "source": [
    "perform13=df1[df1[\"season\"]==2013]\n",
    "winners13=perform13[\"winner\"].value_counts(ascending=False)\n",
    "print(\"no of matches won by each team in 2013\")\n",
    "winners13\n",
    "plt.figure(figsize=(20,10))\n",
    "plt.bar(winners13.keys(),winners13.values,color=\"maroon\")"
   ]
  },
  {
   "cell_type": "code",
   "execution_count": 21,
   "metadata": {},
   "outputs": [
    {
     "name": "stdout",
     "output_type": "stream",
     "text": [
      "no of matches won by each team in 2014\n"
     ]
    },
    {
     "data": {
      "text/plain": [
       "<BarContainer object of 8 artists>"
      ]
     },
     "execution_count": 21,
     "metadata": {},
     "output_type": "execute_result"
    },
    {
     "data": {
      "image/png": "[encoded data removed]",
      "text/plain": [
       "<Figure size 1440x720 with 1 Axes>"
      ]
     },
     "metadata": {
      "needs_background": "light"
     },
     "output_type": "display_data"
    }
   ],
   "source": [
    "perform14=df1[df1[\"season\"]==2014]\n",
    "winners14=perform14[\"winner\"].value_counts(ascending=False)\n",
    "print(\"no of matches won by each team in 2014\")\n",
    "winners14\n",
    "plt.figure(figsize=(20,10))\n",
    "plt.bar(winners14.keys(),winners14.values,color=\"maroon\")"
   ]
  },
  {
   "cell_type": "code",
   "execution_count": 24,
   "metadata": {},
   "outputs": [
    {
     "name": "stdout",
     "output_type": "stream",
     "text": [
      "no of matches won by each team in 2015\n"
     ]
    },
    {
     "data": {
      "text/plain": [
       "<BarContainer object of 8 artists>"
      ]
     },
     "execution_count": 24,
     "metadata": {},
     "output_type": "execute_result"
    },
    {
     "data": {
      "image/png": "[encoded data removed]",
      "text/plain": [
       "<Figure size 1440x720 with 1 Axes>"
      ]
     },
     "metadata": {
      "needs_background": "light"
     },
     "output_type": "display_data"
    }
   ],
   "source": [
    "perform15=df1[df1[\"season\"]==2015]\n",
    "winners15=perform15[\"winner\"].value_counts(ascending=False)\n",
    "print(\"no of matches won by each team in 2015\")\n",
    "winners15\n",
    "plt.figure(figsize=(20,10))\n",
    "plt.bar(winners15.keys(),winners15.values,color=\"maroon\")"
   ]
  },
  {
   "cell_type": "code",
   "execution_count": 25,
   "metadata": {},
   "outputs": [
    {
     "name": "stdout",
     "output_type": "stream",
     "text": [
      "no of matches won by each team in 2016\n"
     ]
    },
    {
     "data": {
      "text/plain": [
       "<BarContainer object of 8 artists>"
      ]
     },
     "execution_count": 25,
     "metadata": {},
     "output_type": "execute_result"
    },
    {
     "data": {
      "image/png": "[encoded data removed]",
      "text/plain": [
       "<Figure size 1440x720 with 1 Axes>"
      ]
     },
     "metadata": {
      "needs_background": "light"
     },
     "output_type": "display_data"
    }
   ],
   "source": [
    "perform16=df1[df1[\"season\"]==2016]\n",
    "winners16=perform16[\"winner\"].value_counts(ascending=False)\n",
    "print(\"no of matches won by each team in 2016\")\n",
    "winners16\n",
    "plt.figure(figsize=(20,10))\n",
    "plt.bar(winners16.keys(),winners16.values,color=\"maroon\")"
   ]
  },
  {
   "cell_type": "code",
   "execution_count": 26,
   "metadata": {},
   "outputs": [
    {
     "name": "stdout",
     "output_type": "stream",
     "text": [
      "no of matches won by each team in 2017\n"
     ]
    },
    {
     "data": {
      "text/plain": [
       "<BarContainer object of 8 artists>"
      ]
     },
     "execution_count": 26,
     "metadata": {},
     "output_type": "execute_result"
    },
    {
     "data": {
      "image/png": "[encoded data removed]",
      "text/plain": [
       "<Figure size 1440x720 with 1 Axes>"
      ]
     },
     "metadata": {
      "needs_background": "light"
     },
     "output_type": "display_data"
    }
   ],
   "source": [
    "perform17=df1[df1[\"season\"]==2017]\n",
    "winners17=perform17[\"winner\"].value_counts(ascending=False)\n",
    "print(\"no of matches won by each team in 2017\")\n",
    "# winners09\n",
    "plt.figure(figsize=(20,10))\n",
    "plt.bar(winners17.keys(),winners17.values,color=\"maroon\")"
   ]
  },
  {
   "cell_type": "code",
   "execution_count": 27,
   "metadata": {},
   "outputs": [
    {
     "name": "stdout",
     "output_type": "stream",
     "text": [
      "no of matches won by each team in 2009\n"
     ]
    },
    {
     "data": {
      "text/plain": [
       "<BarContainer object of 8 artists>"
      ]
     },
     "execution_count": 27,
     "metadata": {},
     "output_type": "execute_result"
    },
    {
     "data": {
      "image/png": "[encoded data removed]",
      "text/plain": [
       "<Figure size 1440x720 with 1 Axes>"
      ]
     },
     "metadata": {
      "needs_background": "light"
     },
     "output_type": "display_data"
    }
   ],
   "source": [
    "perform18=df1[df1[\"season\"]==2018]\n",
    "winners18=perform18[\"winner\"].value_counts(ascending=False)\n",
    "print(\"no of matches won by each team in 2009\")\n",
    "winners18\n",
    "plt.figure(figsize=(20,10))\n",
    "plt.bar(winners18.keys(),winners18.values,color=\"maroon\")"
   ]
  },
  {
   "cell_type": "code",
   "execution_count": 28,
   "metadata": {},
   "outputs": [
    {
     "name": "stdout",
     "output_type": "stream",
     "text": [
      "no of matches won by each team in 2019\n"
     ]
    },
    {
     "data": {
      "text/plain": [
       "<BarContainer object of 8 artists>"
      ]
     },
     "execution_count": 28,
     "metadata": {},
     "output_type": "execute_result"
    },
    {
     "data": {
      "image/png": "[encoded data removed]",
      "text/plain": [
       "<Figure size 1440x720 with 1 Axes>"
      ]
     },
     "metadata": {
      "needs_background": "light"
     },
     "output_type": "display_data"
    }
   ],
   "source": [
    "perform19=df1[df1[\"season\"]==2019]\n",
    "winners19=perform19[\"winner\"].value_counts(ascending=False)\n",
    "print(\"no of matches won by each team in 2019\")\n",
    "winners19\n",
    "plt.figure(figsize=(20,10))\n",
    "plt.bar(winners19.keys(),winners19.values,color=\"maroon\")"
   ]
  },
  {
   "cell_type": "code",
   "execution_count": 29,
   "metadata": {},
   "outputs": [
    {
     "data": {
      "text/plain": [
       "<AxesSubplot:xlabel='winner', ylabel='count'>"
      ]
     },
     "execution_count": 29,
     "metadata": {},
     "output_type": "execute_result"
    },
    {
     "data": {
      "image/png": "[encoded data removed]",
      "text/plain": [
       "<Figure size 432x288 with 1 Axes>"
      ]
     },
     "metadata": {
      "needs_background": "light"
     },
     "output_type": "display_data"
    }
   ],
   "source": [
    "# most_wins=ipl_08[ipl_08[\"\"]]\n",
    "ipl_08=ipl_08[ipl_08[\"winner\"]==\"Royal Challengers Bangalore\"]\n",
    "# plt.figure(figsize=(30,10))\n",
    "sns.countplot(x=\"winner\",hue=\"winner\",data=ipl_08)"
   ]
  },
  {
   "cell_type": "code",
   "execution_count": null,
   "metadata": {},
   "outputs": [],
   "source": [
    "warne=ipl_08[ipl_08[\"bowler\"]==\"Shane Warne\"]"
   ]
  },
  {
   "cell_type": "code",
   "execution_count": 78,
   "metadata": {
    "colab": {
     "base_uri": "https://localhost:8080/"
    },
    "id": "6rzsN3P7uGGR",
    "outputId": "da75e7ab-3b46-4972-c1df-de2815357e0b"
   },
   "outputs": [
    {
     "data": {
      "text/plain": [
       "98.0"
      ]
     },
     "execution_count": 78,
     "metadata": {},
     "output_type": "execute_result"
    }
   ],
   "source": [
    "# ipl_08=ipl_08[\"batsman_runs\"].fillna(0)\n",
    "kohli_08=ipl_08[ipl_08[\"batsman\"]==\"V Kohli\"]\n",
    "kohli_runs= kohli_08['batsman_runs'].sum()\n",
    "balls_faced=kohli_08['ball'].count()\n",
    "sr08= (kohli_runs/balls_faced)\n",
    "sr08=float(\"%.2f\"%sr08)*100\n",
    "sr08"
   ]
  },
  {
   "cell_type": "code",
   "execution_count": 84,
   "metadata": {},
   "outputs": [
    {
     "data": {
      "text/plain": [
       "109.00000000000001"
      ]
     },
     "execution_count": 84,
     "metadata": {},
     "output_type": "execute_result"
    }
   ],
   "source": [
    "kohli_09=ipl_09[ipl_09[\"batsman\"]==\"V Kohli\"]\n",
    "kohli_runs= kohli_09['batsman_runs'].sum()\n",
    "balls_faced=kohli_09['ball'].count()\n",
    "sr09=(kohli_runs/balls_faced)\n",
    "sr09=float(\"%.2f\"%sr09)*100\n",
    "sr09"
   ]
  },
  {
   "cell_type": "code",
   "execution_count": 81,
   "metadata": {},
   "outputs": [
    {
     "data": {
      "text/plain": [
       "142.13"
      ]
     },
     "execution_count": 81,
     "metadata": {},
     "output_type": "execute_result"
    }
   ],
   "source": [
    "kohli_10=ipl_10[ipl_10[\"batsman\"]==\"V Kohli\"]\n",
    "kohli_runs= kohli_10['batsman_runs'].sum()\n",
    "balls_faced=kohli_10['ball'].count()\n",
    "sr10= (kohli_runs/balls_faced)*100\n",
    "sr10=float(\"%.2f\"%sr10)\n",
    "sr10"
   ]
  },
  {
   "cell_type": "code",
   "execution_count": 87,
   "metadata": {},
   "outputs": [
    {
     "data": {
      "text/plain": [
       "473"
      ]
     },
     "execution_count": 87,
     "metadata": {},
     "output_type": "execute_result"
    }
   ],
   "source": [
    "kohli_11=ipl_11[ipl_11[\"batsman\"]==\"V Kohli\"]\n",
    "kohli_runs= kohli_11['batsman_runs'].sum()\n",
    "balls_faced=kohli_11['ball'].count()\n",
    "sr11= (kohli_runs/balls_faced)*100\n",
    "sr11=float(\"%.2f\"%sr11)\n",
    "balls_faced"
   ]
  },
  {
   "cell_type": "code",
   "execution_count": 89,
   "metadata": {},
   "outputs": [
    {
     "data": {
      "text/plain": [
       "109.31"
      ]
     },
     "execution_count": 89,
     "metadata": {},
     "output_type": "execute_result"
    }
   ],
   "source": [
    "kohli_12=ipl_12[ipl_12[\"batsman\"]==\"V Kohli\"]\n",
    "kohli_runs= kohli_12['batsman_runs'].sum()\n",
    "balls_faced=kohli_12['ball'].count()\n",
    "sr12= (kohli_runs/balls_faced)*100\n",
    "sr12=float(\"%.2f\"%sr12)\n",
    "sr12"
   ]
  },
  {
   "cell_type": "code",
   "execution_count": 90,
   "metadata": {},
   "outputs": [
    {
     "data": {
      "text/plain": [
       "471"
      ]
     },
     "execution_count": 90,
     "metadata": {},
     "output_type": "execute_result"
    }
   ],
   "source": [
    "kohli_13=ipl_13[ipl_13[\"batsman\"]==\"V Kohli\"]\n",
    "kohli_runs= kohli_13['batsman_runs'].sum()\n",
    "balls_faced=kohli_13['ball'].count()\n",
    "sr13= (kohli_runs/balls_faced)*100\n",
    "sr13=float(\"%.2f\"%sr13)\n",
    "balls_faced"
   ]
  },
  {
   "cell_type": "code",
   "execution_count": 91,
   "metadata": {},
   "outputs": [
    {
     "data": {
      "text/plain": [
       "301"
      ]
     },
     "execution_count": 91,
     "metadata": {},
     "output_type": "execute_result"
    }
   ],
   "source": [
    "kohli_14=ipl_14[ipl_14[\"batsman\"]==\"V Kohli\"]\n",
    "kohli_runs= kohli_14['batsman_runs'].sum()\n",
    "balls_faced=kohli_14['ball'].count()\n",
    "sr14= (kohli_runs/balls_faced)*100\n",
    "sr14=float(\"%.2f\"%sr14)\n",
    "balls_faced"
   ]
  },
  {
   "cell_type": "code",
   "execution_count": 92,
   "metadata": {},
   "outputs": [
    {
     "data": {
      "text/plain": [
       "395"
      ]
     },
     "execution_count": 92,
     "metadata": {},
     "output_type": "execute_result"
    }
   ],
   "source": [
    "kohli_15=ipl_15[ipl_15[\"batsman\"]==\"V Kohli\"]\n",
    "kohli_runs= kohli_15['batsman_runs'].sum()\n",
    "balls_faced=kohli_15['ball'].count()\n",
    "sr15= (kohli_runs/balls_faced)*100\n",
    "sr15=float(\"%.2f\"%sr15)\n",
    "balls_faced"
   ]
  },
  {
   "cell_type": "code",
   "execution_count": 97,
   "metadata": {
    "colab": {
     "base_uri": "https://localhost:8080/"
    },
    "id": "qQryojtKtWeH",
    "outputId": "bfe907ed-4dc4-4fbd-bb0c-21dc13080b95"
   },
   "outputs": [
    {
     "data": {
      "text/plain": [
       "148.55"
      ]
     },
     "execution_count": 97,
     "metadata": {},
     "output_type": "execute_result"
    }
   ],
   "source": [
    "kohli_16=ipl_16[ipl_16[\"batsman\"]==\"V Kohli\"]\n",
    "kohli_runs16=kohli_16[\"batsman_runs\"].sum()\n",
    "balls_faced=kohli_16['ball'].count()\n",
    "sr16= (kohli_runs16/balls_faced)*100\n",
    "sr16=float(\"%.2f\"%sr16)\n",
    "sr16"
   ]
  },
  {
   "cell_type": "code",
   "execution_count": 98,
   "metadata": {
    "colab": {
     "base_uri": "https://localhost:8080/"
    },
    "id": "OMjFnB4TtLwQ",
    "outputId": "1b6f4a74-dd58-4b54-de9d-248a43718113"
   },
   "outputs": [
    {
     "data": {
      "text/plain": [
       "119.84"
      ]
     },
     "execution_count": 98,
     "metadata": {},
     "output_type": "execute_result"
    }
   ],
   "source": [
    "kohli_17=ipl_17[ipl_17[\"batsman\"]==\"V Kohli\"]\n",
    "kohli_runs17=kohli_17['batsman_runs'].sum()\n",
    "\n",
    "balls_faced=kohli_17['ball'].count()\n",
    "sr17= (kohli_runs17/balls_faced)*100\n",
    "sr17=float(\"%.2f\"%sr17)\n",
    "sr17\n",
    "# print(\"%.2f\"%sr17)"
   ]
  },
  {
   "cell_type": "code",
   "execution_count": 100,
   "metadata": {
    "colab": {
     "base_uri": "https://localhost:8080/"
    },
    "id": "FJBuAnX6s_B8",
    "outputId": "b49f8e3f-d9ec-4951-da26-db8d1614d40b"
   },
   "outputs": [
    {
     "data": {
      "text/plain": [
       "140.0"
      ]
     },
     "execution_count": 100,
     "metadata": {},
     "output_type": "execute_result"
    }
   ],
   "source": [
    "kohli_18=ipl_18[ipl_18[\"batsman\"]==\"V Kohli\"]\n",
    "kohli_runs18=kohli_18['batsman_runs'].sum()\n",
    "\n",
    "\n",
    "balls_faced=kohli_18['ball'].count()\n",
    "sr18= (kohli_runs18/balls_faced)*100\n",
    "sr18=float(\"%.2f\"%sr18)\n",
    "sr18\n",
    "# print(\"%.2f\"%sr18)"
   ]
  },
  {
   "cell_type": "code",
   "execution_count": 101,
   "metadata": {
    "colab": {
     "base_uri": "https://localhost:8080/"
    },
    "id": "7wUGARD2qVb9",
    "outputId": "ca39dac0-ae3d-4fac-9bfa-1486a03349b7"
   },
   "outputs": [
    {
     "name": "stdout",
     "output_type": "stream",
     "text": [
      "142.17\n"
     ]
    }
   ],
   "source": [
    "kohli_19=ipl_19[ipl_19[\"batsman\"]==\"V Kohli\"]\n",
    "kohli_runs19= kohli_19['batsman_runs'].sum()\n",
    "balls_faced=kohli_19['ball'].count()\n",
    "sr19= (kohli_runs19/balls_faced)*100\n",
    "sr19=float(\"%.2f\"%sr19)\n",
    "print(\"%.2f\"%sr19)"
   ]
  },
  {
   "cell_type": "code",
   "execution_count": 105,
   "metadata": {
    "id": "iUWa3LiAs9Yu"
   },
   "outputs": [
    {
     "data": {
      "text/plain": [
       "Text(0.5, 1.0, \"Virat Kohli's strike rate from 2008-present\")"
      ]
     },
     "execution_count": 105,
     "metadata": {},
     "output_type": "execute_result"
    },
    {
     "data": {
      "image/png": "[encoded data removed]",
      "text/plain": [
       "<Figure size 720x360 with 1 Axes>"
      ]
     },
     "metadata": {
      "needs_background": "light"
     },
     "output_type": "display_data"
    }
   ],
   "source": [
    "dict1={'2008':sr08,'2009':sr09,'2010':sr10,'2011':sr11,'2012':sr12,'2013':sr13,'2014':sr14,'2015':sr15,'2016':sr16,'2017':sr17,'2018':sr18,'2019':sr19}\n",
    "season=list(dict1.keys())\n",
    "runs=list(dict1.values())\n",
    "plt.figure(figsize=(10,5))\n",
    "plt.bar(season,runs,width=0.4,color=\"violet\")\n",
    "plt.xlabel(\"Seasons\")\n",
    "plt.ylabel(\"Strike rate\")\n",
    "plt.title(\"Virat Kohli's strike rate from 2008-present\")"
   ]
  },
  {
   "cell_type": "code",
   "execution_count": null,
   "metadata": {
    "id": "lJJtd-pHqV6X"
   },
   "outputs": [],
   "source": []
  },
  {
   "cell_type": "code",
   "execution_count": null,
   "metadata": {
    "id": "NoUE9UFIqV8z"
   },
   "outputs": [],
   "source": []
  },
  {
   "cell_type": "code",
   "execution_count": null,
   "metadata": {
    "id": "7hyJILdEqWAl"
   },
   "outputs": [],
   "source": []
  },
  {
   "cell_type": "code",
   "execution_count": null,
   "metadata": {
    "id": "DWLsnC35qWD-"
   },
   "outputs": [],
   "source": []
  }
 ],
 "metadata": {
  "colab": {
   "collapsed_sections": [],
   "name": "cricket_statistics.ipynb",
   "provenance": []
  },
  "kernelspec": {
   "display_name": "Python 3",
   "language": "python",
   "name": "python3"
  },
  "language_info": {
   "codemirror_mode": {
    "name": "ipython",
    "version": 3
   },
   "file_extension": ".py",
   "mimetype": "text/x-python",
   "name": "python",
   "nbconvert_exporter": "python",
   "pygments_lexer": "ipython3",
   "version": "3.8.5"
  }
 },
 "nbformat": 4,
 "nbformat_minor": 1
}
